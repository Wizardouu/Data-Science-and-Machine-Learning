{
  "nbformat": 4,
  "nbformat_minor": 0,
  "metadata": {
    "colab": {
      "provenance": []
    },
    "kernelspec": {
      "name": "python3",
      "display_name": "Python 3"
    },
    "language_info": {
      "name": "python"
    }
  },
  "cells": [
    {
      "cell_type": "markdown",
      "source": [
        "**1- Import Libraries**"
      ],
      "metadata": {
        "id": "ZPi7BxxTmxWC"
      }
    },
    {
      "cell_type": "code",
      "execution_count": 2,
      "metadata": {
        "id": "Mz2XHFwDl4b9"
      },
      "outputs": [],
      "source": [
        "import numpy as np\n",
        "import matplotlib.pyplot as plt\n",
        "from sklearn import datasets\n",
        "from sklearn.pipeline import Pipeline\n",
        "from sklearn.preprocessing import StandardScaler\n",
        "from sklearn.model_selection import StratifiedKFold, GridSearchCV, cross_val_score, train_test_split\n",
        "from sklearn.svm import SVC\n",
        "from sklearn.metrics import accuracy_score, classification_report, confusion_matrix\n",
        "import pandas as pd"
      ]
    },
    {
      "cell_type": "markdown",
      "source": [
        "**2- Load data**"
      ],
      "metadata": {
        "id": "4ueUMqMXm6Uy"
      }
    },
    {
      "cell_type": "code",
      "source": [
        "\n",
        "# Load the Iris dataset\n",
        "iris = datasets.load_iris()\n",
        "X = iris.data[:, :2]  # Only use the first two features for visualization\n",
        "y = iris.target\n",
        "\n",
        "# Transform target variable to binary classification (class 0 vs. non-class 0)\n",
        "y_binary = np.where(y == 0, 0, 1)"
      ],
      "metadata": {
        "id": "FuWTnRzcl5uM"
      },
      "execution_count": 3,
      "outputs": []
    },
    {
      "cell_type": "markdown",
      "source": [
        "**3- Apply pipelining and Grid search to tune hyper parameters:**"
      ],
      "metadata": {
        "id": "6IThjgpqnFKb"
      }
    },
    {
      "cell_type": "code",
      "source": [
        "\n",
        "# Define a pipeline\n",
        "pipeline = Pipeline([\n",
        "    ('scaler', StandardScaler()),\n",
        "    ('svc', SVC())\n",
        "])\n",
        "\n",
        "# Define the hyperparameters and the values we want to test\n",
        "param_grid = {\n",
        "    'svc__C': [0.1, 1, 10, 100],\n",
        "    'svc__gamma': [1, 0.1, 0.01, 0.001],\n",
        "    'svc__kernel': ['rbf', 'linear' , 'poly']\n",
        "}\n",
        "\n",
        "# Create the StratifiedKFold object\n",
        "stratified_kfold = StratifiedKFold(n_splits=5, shuffle=True, random_state=42)\n",
        "\n",
        "# Create the GridSearchCV object with StratifiedKFold\n",
        "grid = GridSearchCV(pipeline, param_grid, cv=stratified_kfold, refit=True)\n",
        "\n",
        "# Fit the model using GridSearchCV\n",
        "grid.fit(X, y_binary)\n",
        "\n",
        "# Display the best parameters and scores from cross-validation\n",
        "print(\"Best parameters found: \", grid.best_params_)\n",
        "print(\"Best cross-validation accuracy: {:.2f}\".format(grid.best_score_))\n",
        "\n",
        "# Evaluate the model using cross-validation\n",
        "cv_results = cross_val_score(grid.best_estimator_, X, y_binary, cv=stratified_kfold)\n",
        "\n",
        "# Display the cross-validation results\n",
        "print(\"Cross-validation scores: \", cv_results)\n",
        "print(\"Mean cross-validation accuracy: {:.2f}\".format(cv_results.mean()))"
      ],
      "metadata": {
        "colab": {
          "base_uri": "https://localhost:8080/"
        },
        "id": "VivP3uOSl5wp",
        "outputId": "8292828e-156b-4db1-a9c8-2cbe30db8cf0"
      },
      "execution_count": 4,
      "outputs": [
        {
          "output_type": "stream",
          "name": "stdout",
          "text": [
            "Best parameters found:  {'svc__C': 0.1, 'svc__gamma': 1, 'svc__kernel': 'linear'}\n",
            "Best cross-validation accuracy: 0.99\n",
            "Cross-validation scores:  [1.         1.         0.96666667 1.         1.        ]\n",
            "Mean cross-validation accuracy: 0.99\n"
          ]
        }
      ]
    },
    {
      "cell_type": "markdown",
      "source": [
        "**4- Build the model with best parameters:**"
      ],
      "metadata": {
        "id": "OpXOZUflncBY"
      }
    },
    {
      "cell_type": "code",
      "source": [
        "\n",
        "# Split the data for a final test evaluation\n",
        "X_train, X_test, y_train, y_test = train_test_split(X, y_binary, test_size=0.2, random_state=42)\n",
        "\n",
        "# Train the final model on the full training set\n",
        "final_model = grid.best_estimator_\n",
        "final_model.fit(X_train, y_train)\n",
        "\n",
        "# Make predictions on the test set\n",
        "y_pred = final_model.predict(X_test)\n",
        "\n",
        "# Display the results\n",
        "print(\"Test set accuracy: {:.2f}\".format(accuracy_score(y_test, y_pred)))\n",
        "print(\"\\nClassification Report:\")\n",
        "print(classification_report(y_test, y_pred))\n",
        "print(\"\\nConfusion Matrix:\")\n",
        "print(confusion_matrix(y_test, y_pred))\n",
        "\n",
        "# To further analyze the grid search results\n",
        "cv_results_df = pd.DataFrame(grid.cv_results_)\n",
        "print(\"\\nGrid Search CV Results:\")\n",
        "print(cv_results_df[['mean_test_score', 'std_test_score', 'params']])"
      ],
      "metadata": {
        "colab": {
          "base_uri": "https://localhost:8080/"
        },
        "id": "fkUd29aZl5zC",
        "outputId": "e2467ce0-046d-421e-e2a0-4514f55fe759"
      },
      "execution_count": 5,
      "outputs": [
        {
          "output_type": "stream",
          "name": "stdout",
          "text": [
            "Test set accuracy: 1.00\n",
            "\n",
            "Classification Report:\n",
            "              precision    recall  f1-score   support\n",
            "\n",
            "           0       1.00      1.00      1.00        10\n",
            "           1       1.00      1.00      1.00        20\n",
            "\n",
            "    accuracy                           1.00        30\n",
            "   macro avg       1.00      1.00      1.00        30\n",
            "weighted avg       1.00      1.00      1.00        30\n",
            "\n",
            "\n",
            "Confusion Matrix:\n",
            "[[10  0]\n",
            " [ 0 20]]\n",
            "\n",
            "Grid Search CV Results:\n",
            "    mean_test_score  std_test_score  \\\n",
            "0          0.980000        0.026667   \n",
            "1          0.993333        0.013333   \n",
            "2          0.973333        0.024944   \n",
            "3          0.993333        0.013333   \n",
            "4          0.993333        0.013333   \n",
            "5          0.666667        0.000000   \n",
            "6          0.666667        0.000000   \n",
            "7          0.993333        0.013333   \n",
            "8          0.666667        0.000000   \n",
            "9          0.666667        0.000000   \n",
            "10         0.993333        0.013333   \n",
            "11         0.666667        0.000000   \n",
            "12         0.993333        0.013333   \n",
            "13         0.993333        0.013333   \n",
            "14         0.993333        0.013333   \n",
            "15         0.993333        0.013333   \n",
            "16         0.993333        0.013333   \n",
            "17         0.693333        0.038873   \n",
            "18         0.993333        0.013333   \n",
            "19         0.993333        0.013333   \n",
            "20         0.666667        0.000000   \n",
            "21         0.666667        0.000000   \n",
            "22         0.993333        0.013333   \n",
            "23         0.666667        0.000000   \n",
            "24         0.993333        0.013333   \n",
            "25         0.993333        0.013333   \n",
            "26         0.993333        0.013333   \n",
            "27         0.993333        0.013333   \n",
            "28         0.993333        0.013333   \n",
            "29         0.900000        0.042164   \n",
            "30         0.993333        0.013333   \n",
            "31         0.993333        0.013333   \n",
            "32         0.666667        0.000000   \n",
            "33         0.993333        0.013333   \n",
            "34         0.993333        0.013333   \n",
            "35         0.666667        0.000000   \n",
            "36         0.993333        0.013333   \n",
            "37         0.993333        0.013333   \n",
            "38         0.993333        0.013333   \n",
            "39         0.993333        0.013333   \n",
            "40         0.993333        0.013333   \n",
            "41         0.973333        0.024944   \n",
            "42         0.993333        0.013333   \n",
            "43         0.993333        0.013333   \n",
            "44         0.666667        0.000000   \n",
            "45         0.993333        0.013333   \n",
            "46         0.993333        0.013333   \n",
            "47         0.666667        0.000000   \n",
            "\n",
            "                                               params  \n",
            "0   {'svc__C': 0.1, 'svc__gamma': 1, 'svc__kernel'...  \n",
            "1   {'svc__C': 0.1, 'svc__gamma': 1, 'svc__kernel'...  \n",
            "2   {'svc__C': 0.1, 'svc__gamma': 1, 'svc__kernel'...  \n",
            "3   {'svc__C': 0.1, 'svc__gamma': 0.1, 'svc__kerne...  \n",
            "4   {'svc__C': 0.1, 'svc__gamma': 0.1, 'svc__kerne...  \n",
            "5   {'svc__C': 0.1, 'svc__gamma': 0.1, 'svc__kerne...  \n",
            "6   {'svc__C': 0.1, 'svc__gamma': 0.01, 'svc__kern...  \n",
            "7   {'svc__C': 0.1, 'svc__gamma': 0.01, 'svc__kern...  \n",
            "8   {'svc__C': 0.1, 'svc__gamma': 0.01, 'svc__kern...  \n",
            "9   {'svc__C': 0.1, 'svc__gamma': 0.001, 'svc__ker...  \n",
            "10  {'svc__C': 0.1, 'svc__gamma': 0.001, 'svc__ker...  \n",
            "11  {'svc__C': 0.1, 'svc__gamma': 0.001, 'svc__ker...  \n",
            "12  {'svc__C': 1, 'svc__gamma': 1, 'svc__kernel': ...  \n",
            "13  {'svc__C': 1, 'svc__gamma': 1, 'svc__kernel': ...  \n",
            "14  {'svc__C': 1, 'svc__gamma': 1, 'svc__kernel': ...  \n",
            "15  {'svc__C': 1, 'svc__gamma': 0.1, 'svc__kernel'...  \n",
            "16  {'svc__C': 1, 'svc__gamma': 0.1, 'svc__kernel'...  \n",
            "17  {'svc__C': 1, 'svc__gamma': 0.1, 'svc__kernel'...  \n",
            "18  {'svc__C': 1, 'svc__gamma': 0.01, 'svc__kernel...  \n",
            "19  {'svc__C': 1, 'svc__gamma': 0.01, 'svc__kernel...  \n",
            "20  {'svc__C': 1, 'svc__gamma': 0.01, 'svc__kernel...  \n",
            "21  {'svc__C': 1, 'svc__gamma': 0.001, 'svc__kerne...  \n",
            "22  {'svc__C': 1, 'svc__gamma': 0.001, 'svc__kerne...  \n",
            "23  {'svc__C': 1, 'svc__gamma': 0.001, 'svc__kerne...  \n",
            "24  {'svc__C': 10, 'svc__gamma': 1, 'svc__kernel':...  \n",
            "25  {'svc__C': 10, 'svc__gamma': 1, 'svc__kernel':...  \n",
            "26  {'svc__C': 10, 'svc__gamma': 1, 'svc__kernel':...  \n",
            "27  {'svc__C': 10, 'svc__gamma': 0.1, 'svc__kernel...  \n",
            "28  {'svc__C': 10, 'svc__gamma': 0.1, 'svc__kernel...  \n",
            "29  {'svc__C': 10, 'svc__gamma': 0.1, 'svc__kernel...  \n",
            "30  {'svc__C': 10, 'svc__gamma': 0.01, 'svc__kerne...  \n",
            "31  {'svc__C': 10, 'svc__gamma': 0.01, 'svc__kerne...  \n",
            "32  {'svc__C': 10, 'svc__gamma': 0.01, 'svc__kerne...  \n",
            "33  {'svc__C': 10, 'svc__gamma': 0.001, 'svc__kern...  \n",
            "34  {'svc__C': 10, 'svc__gamma': 0.001, 'svc__kern...  \n",
            "35  {'svc__C': 10, 'svc__gamma': 0.001, 'svc__kern...  \n",
            "36  {'svc__C': 100, 'svc__gamma': 1, 'svc__kernel'...  \n",
            "37  {'svc__C': 100, 'svc__gamma': 1, 'svc__kernel'...  \n",
            "38  {'svc__C': 100, 'svc__gamma': 1, 'svc__kernel'...  \n",
            "39  {'svc__C': 100, 'svc__gamma': 0.1, 'svc__kerne...  \n",
            "40  {'svc__C': 100, 'svc__gamma': 0.1, 'svc__kerne...  \n",
            "41  {'svc__C': 100, 'svc__gamma': 0.1, 'svc__kerne...  \n",
            "42  {'svc__C': 100, 'svc__gamma': 0.01, 'svc__kern...  \n",
            "43  {'svc__C': 100, 'svc__gamma': 0.01, 'svc__kern...  \n",
            "44  {'svc__C': 100, 'svc__gamma': 0.01, 'svc__kern...  \n",
            "45  {'svc__C': 100, 'svc__gamma': 0.001, 'svc__ker...  \n",
            "46  {'svc__C': 100, 'svc__gamma': 0.001, 'svc__ker...  \n",
            "47  {'svc__C': 100, 'svc__gamma': 0.001, 'svc__ker...  \n"
          ]
        }
      ]
    },
    {
      "cell_type": "markdown",
      "source": [
        "**5- Visualization of the data and boundaries:**"
      ],
      "metadata": {
        "id": "aZBTGdUpnkli"
      }
    },
    {
      "cell_type": "code",
      "source": [
        "# Visualization\n",
        "def plot_decision_regions(X, y, classifier, resolution=0.02):\n",
        "    markers = ('s', 'x', 'o', '^', 'v')\n",
        "    colors = ('red', 'blue', 'lightgreen', 'gray', 'cyan')\n",
        "    cmap = plt.cm.RdYlBu\n",
        "\n",
        "    # Plot the decision surface\n",
        "    x1_min, x1_max = X[:, 0].min() - 1, X[:, 0].max() + 1\n",
        "    x2_min, x2_max = X[:, 1].min() - 1, X[:, 1].max() + 1\n",
        "    xx1, xx2 = np.meshgrid(np.arange(x1_min, x1_max, resolution),\n",
        "                           np.arange(x2_min, x2_max, resolution))\n",
        "    Z = classifier.predict(np.array([xx1.ravel(), xx2.ravel()]).T)\n",
        "    Z = Z.reshape(xx1.shape)\n",
        "    plt.contourf(xx1, xx2, Z, alpha=0.3, cmap=cmap)\n",
        "    plt.xlim(xx1.min(), xx1.max())\n",
        "    plt.ylim(xx2.min(), xx2.max())\n",
        "\n",
        "    # Plot class samples\n",
        "    for idx, cl in enumerate(np.unique(y)):\n",
        "        plt.scatter(x=X[y == cl, 0], y=X[y == cl, 1],\n",
        "                    alpha=0.8, c=colors[idx],\n",
        "                    marker=markers[idx], label=cl, edgecolor='black')\n",
        "\n",
        "# Plot the decision regions\n",
        "plt.figure(figsize=(10, 8))\n",
        "plot_decision_regions(X, y_binary, classifier=final_model)\n",
        "plt.title('SVC Decision Boundary with Iris Dataset (Class 0 vs Non-Class 0)')\n",
        "plt.xlabel('Feature 1')\n",
        "plt.ylabel('Feature 2')\n",
        "plt.legend(loc='upper left')\n",
        "plt.show()"
      ],
      "metadata": {
        "colab": {
          "base_uri": "https://localhost:8080/",
          "height": 773
        },
        "id": "jX-nFYB7l51U",
        "outputId": "95896102-7e6a-494d-ed5c-a26f1635012b"
      },
      "execution_count": 6,
      "outputs": [
        {
          "output_type": "stream",
          "name": "stderr",
          "text": [
            "<ipython-input-6-7deb5149708e>:20: UserWarning: You passed a edgecolor/edgecolors ('black') for an unfilled marker ('x').  Matplotlib is ignoring the edgecolor in favor of the facecolor.  This behavior may change in the future.\n",
            "  plt.scatter(x=X[y == cl, 0], y=X[y == cl, 1],\n"
          ]
        },
        {
          "output_type": "display_data",
          "data": {
            "text/plain": [
              "<Figure size 1000x800 with 1 Axes>"
            ],
            "image/png": "[encoded data removed]"
          },
          "metadata": {}
        }
      ]
    }
  ]
}